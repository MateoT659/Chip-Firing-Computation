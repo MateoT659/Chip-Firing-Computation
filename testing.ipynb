{
 "cells": [
  {
   "cell_type": "code",
   "execution_count": 1,
   "id": "54a3c464",
   "metadata": {},
   "outputs": [
    {
     "name": "stdout",
     "output_type": "stream",
     "text": [
      "True False True\n",
      "Time: 00 h, 00 m, 0.444 s\n",
      "1\n"
     ]
    }
   ],
   "source": [
    "from itertools import *\n",
    "import numpy as np\n",
    "import random\n",
    "import time\n",
    "\n",
    "load('helpers.sage')\n",
    "load('graphs.sage')\n",
    "load('firingclass.sage')\n",
    "\n",
    "def randvec(size=3, n=10):\n",
    "    return vector([random.randint(0,n) for i in range(size)])\n",
    "\n",
    "def changeMatrix(L):\n",
    "    L = copy(L)\n",
    "    L[1,1] *= 10000\n",
    "\n",
    "A = matrix([[0,0,0], [3,-1,-5],[5,4,3]])\n",
    "B = matrix([[1,2,3],[5,6,3],[1,9,0]])\n",
    "x = vector([1, 0,1])\n",
    "y = vector([9,8,1,9.3])\n",
    "z = vector([0,0,1,0])\n",
    "\n",
    "print(integer_list(x), integer_list(y), integer_list(z))\n",
    "\n",
    "G = Graph([[1,3],[1,2],[2,4],[2,3],[3,4]])\n",
    "\n",
    "L = [1,2,3,4]\n",
    "M = [2,3,4,5]\n",
    "\n",
    "list_subtract(M,L)\n",
    "\n",
    "curr = FrozenBitset([0,1,2,3])\n",
    "\n",
    "curr2 = FrozenBitset([0,1,2,3])\n",
    "L = []\n",
    "timeT = time.time()\n",
    "for i in range(10):\n",
    "    A = [randvec(size=8,n=1000) for i in range(20)]\n",
    "    P = Polyhedron(A)\n",
    "    L += [P]\n",
    "timeSince(timeT)\n",
    "print(max(x))"
   ]
  },
  {
   "cell_type": "code",
   "execution_count": null,
   "id": "2d748f9f",
   "metadata": {},
   "outputs": [],
   "source": []
  }
 ],
 "metadata": {
  "kernelspec": {
   "display_name": "SageMath 10.4.rc2",
   "language": "sage",
   "name": "sagemath"
  },
  "language_info": {
   "codemirror_mode": {
    "name": "ipython",
    "version": 3
   },
   "file_extension": ".py",
   "mimetype": "text/x-python",
   "name": "python",
   "nbconvert_exporter": "python",
   "pygments_lexer": "ipython3",
   "version": "3.10.12"
  }
 },
 "nbformat": 4,
 "nbformat_minor": 5
}
